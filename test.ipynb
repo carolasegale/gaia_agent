{
 "cells": [
  {
   "cell_type": "markdown",
   "id": "fa04d456-f7b5-4f59-a4d4-eea0ff47cfc3",
   "metadata": {},
   "source": [
    "# Import packages"
   ]
  },
  {
   "cell_type": "code",
   "execution_count": 1,
   "id": "3d17d217-f6da-48c8-80dc-acc94213a50d",
   "metadata": {},
   "outputs": [],
   "source": [
    "import pandas as pd\n",
    "import json\n",
    "import random\n",
    "import os"
   ]
  },
  {
   "cell_type": "markdown",
   "id": "a71aa808-8d78-497b-a43e-cb65ded30565",
   "metadata": {},
   "source": [
    "# Import data"
   ]
  },
  {
   "cell_type": "code",
   "execution_count": 2,
   "id": "f56343d7-877a-4c78-9cd4-0d0a33be7838",
   "metadata": {},
   "outputs": [
    {
     "name": "stdout",
     "output_type": "stream",
     "text": [
      "<class 'list'>\n",
      "{'task_id': '8e867cd7-cff9-4e6c-867a-ff5ddc2550be', 'question': 'How many studio albums were published by Mercedes Sosa between 2000 and 2009 (included)? You can use the latest 2022 version of english wikipedia.', 'Level': '1', 'file_name': ''}\n"
     ]
    }
   ],
   "source": [
    "# Load the JSON file\n",
    "with open(\"questions.json\", \"r\", encoding=\"utf-8-sig\") as f:\n",
    "    data = json.load(f)\n",
    "\n",
    "print(type(data))\n",
    "print(data[0])"
   ]
  },
  {
   "cell_type": "code",
   "execution_count": 3,
   "id": "a4d0b9d9",
   "metadata": {},
   "outputs": [
    {
     "name": "stdout",
     "output_type": "stream",
     "text": [
      "{'task_id': 'cabe07ed-9eca-40ea-8ead-410ef5e83f91', 'question': \"What is the surname of the equine veterinarian mentioned in 1.E Exercises from the chemistry materials licensed by Marisa Alviar-Agnew & Henry Agnew under the CK-12 license in LibreText's Introductory Chemistry materials as compiled 08/21/2023?\", 'Level': '1', 'file_name': ''}\n"
     ]
    }
   ],
   "source": [
    "# Select random question\n",
    "random_question = random.choice(data)\n",
    "print(random_question)"
   ]
  },
  {
   "cell_type": "markdown",
   "id": "f3034234",
   "metadata": {},
   "source": [
    "# Set up LLM with Ollama \n",
    "I wanted to use LlamaIndex's HuggingFaceAPI but my pc configurations won't let me use this API"
   ]
  },
  {
   "cell_type": "code",
   "execution_count": 6,
   "id": "c13ad0ae",
   "metadata": {},
   "outputs": [],
   "source": [
    "# before running the following code I first installed Ollama () on my pc\n",
    "# then in the terminal  I tan \"ollama pull qwen3\"\n",
    "\n",
    "from llama_index.llms.ollama import Ollama\n",
    "\n",
    "llm = Ollama(\n",
    "    model=\"qwen3:0.6b\", #qwen3:latest\n",
    "    #request_timeout=120.0,\n",
    "    # Manually set the context window to limit memory usage\n",
    "    context_window=8000,\n",
    ")"
   ]
  },
  {
   "cell_type": "code",
   "execution_count": 7,
   "id": "204422c6",
   "metadata": {},
   "outputs": [],
   "source": [
    "# test\n",
    "response = llm.complete('What\\'s the capital of France?')"
   ]
  },
  {
   "cell_type": "code",
   "execution_count": 8,
   "id": "06532e49",
   "metadata": {},
   "outputs": [
    {
     "name": "stdout",
     "output_type": "stream",
     "text": [
      "<think>\n",
      "Okay, the user is asking about the capital of France. I remember that France is a country in Europe, and the capital is Paris. But wait, let me make sure I'm not confusing it with other countries. For example, in the US, the capital is Washington, D.C., and in the UK, it's London. France's capital is definitely Paris. I should double-check some sources to confirm this. Oh, right! Paris is the capital, and it's also the capital of the European Union. No other cities are commonly referred to as the capital here. So the answer is Paris.\n",
      "</think>\n",
      "\n",
      "The capital of France is **Paris**.\n"
     ]
    }
   ],
   "source": [
    "print(response)"
   ]
  },
  {
   "cell_type": "markdown",
   "id": "b645628e",
   "metadata": {},
   "source": [
    "# Set up Llamaindex (tools, agents, prompt)"
   ]
  },
  {
   "cell_type": "code",
   "execution_count": null,
   "id": "eac5f4ab",
   "metadata": {},
   "outputs": [],
   "source": []
  },
  {
   "cell_type": "markdown",
   "id": "ed4d2ac9",
   "metadata": {},
   "source": [
    "# Run agent on question to test it"
   ]
  },
  {
   "cell_type": "markdown",
   "id": "18b03119",
   "metadata": {},
   "source": []
  }
 ],
 "metadata": {
  "kernelspec": {
   "display_name": "gaia_agent",
   "language": "python",
   "name": "gaia_agent"
  },
  "language_info": {
   "codemirror_mode": {
    "name": "ipython",
    "version": 3
   },
   "file_extension": ".py",
   "mimetype": "text/x-python",
   "name": "python",
   "nbconvert_exporter": "python",
   "pygments_lexer": "ipython3",
   "version": "3.13.5"
  }
 },
 "nbformat": 4,
 "nbformat_minor": 5
}
