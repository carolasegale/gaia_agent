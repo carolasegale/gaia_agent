{
 "cells": [
  {
   "cell_type": "markdown",
   "id": "fa04d456-f7b5-4f59-a4d4-eea0ff47cfc3",
   "metadata": {},
   "source": [
    "# Import packages"
   ]
  },
  {
   "cell_type": "code",
   "execution_count": null,
   "id": "3d17d217-f6da-48c8-80dc-acc94213a50d",
   "metadata": {},
   "outputs": [],
   "source": [
    "import pandas as pd\n",
    "import json\n",
    "import random\n",
    "import os\n",
    "import numpy as np\n"
   ]
  },
  {
   "cell_type": "markdown",
   "id": "a71aa808-8d78-497b-a43e-cb65ded30565",
   "metadata": {},
   "source": [
    "# Import data"
   ]
  },
  {
   "cell_type": "code",
   "execution_count": 2,
   "id": "f56343d7-877a-4c78-9cd4-0d0a33be7838",
   "metadata": {},
   "outputs": [
    {
     "name": "stdout",
     "output_type": "stream",
     "text": [
      "<class 'list'>\n",
      "{'task_id': '8e867cd7-cff9-4e6c-867a-ff5ddc2550be', 'question': 'How many studio albums were published by Mercedes Sosa between 2000 and 2009 (included)? You can use the latest 2022 version of english wikipedia.', 'Level': '1', 'file_name': ''}\n"
     ]
    }
   ],
   "source": [
    "# Load the JSON file\n",
    "with open(\"questions.json\", \"r\", encoding=\"utf-8-sig\") as f:\n",
    "    data = json.load(f)\n",
    "\n",
    "print(type(data))\n",
    "print(data[0])"
   ]
  },
  {
   "cell_type": "code",
   "execution_count": 3,
   "id": "a4d0b9d9",
   "metadata": {},
   "outputs": [
    {
     "name": "stdout",
     "output_type": "stream",
     "text": [
      "{'task_id': 'cabe07ed-9eca-40ea-8ead-410ef5e83f91', 'question': \"What is the surname of the equine veterinarian mentioned in 1.E Exercises from the chemistry materials licensed by Marisa Alviar-Agnew & Henry Agnew under the CK-12 license in LibreText's Introductory Chemistry materials as compiled 08/21/2023?\", 'Level': '1', 'file_name': ''}\n"
     ]
    }
   ],
   "source": [
    "# Select random question\n",
    "random_question = random.choice(data)\n",
    "print(random_question)"
   ]
  },
  {
   "cell_type": "markdown",
   "id": "f3034234",
   "metadata": {},
   "source": [
    "# Set up LLM with Ollama \n",
    "I wanted to use LlamaIndex's HuggingFaceAPI but my pc configurations won't let me use this API"
   ]
  },
  {
   "cell_type": "code",
   "execution_count": 10,
   "id": "c13ad0ae",
   "metadata": {},
   "outputs": [],
   "source": [
    "# before running the following code I first installed Ollama () on my pc\n",
    "# then in the terminal I ran \"ollama pull qwen3\"/\"ollama pull qwen3:0.6b\"\n",
    "\n",
    "from llama_index.llms.ollama import Ollama\n",
    "\n",
    "llm = Ollama(\n",
    "    model=\"qwen3:0.6b\", #qwen3:latest\n",
    "    #request_timeout=120.0,\n",
    "    # Manually set the context window to limit memory usage\n",
    "    context_window=8000,\n",
    "    temperature = 0.1,\n",
    ")"
   ]
  },
  {
   "cell_type": "code",
   "execution_count": 11,
   "id": "204422c6",
   "metadata": {},
   "outputs": [],
   "source": [
    "# test to see if everything is working\n",
    "response = llm.complete('What\\'s the capital of France?')"
   ]
  },
  {
   "cell_type": "code",
   "execution_count": 12,
   "id": "06532e49",
   "metadata": {},
   "outputs": [
    {
     "name": "stdout",
     "output_type": "stream",
     "text": [
      "<think>\n",
      "Okay, the user is asking about the capital of France. I know that France's capital is Paris. But wait, let me make sure. I've heard that sometimes people confuse the capital with other countries. For example, in some cases, people might think of the capital of the United States as Washington, D.C. But that's not the case here. France's capital is indeed Paris. I should double-check that. Oh, right, the capital is Paris, and it's a major city in France. No need to mention other countries here. Just confirm that the answer is Paris.\n",
      "</think>\n",
      "\n",
      "The capital of France is **Paris**.\n"
     ]
    }
   ],
   "source": [
    "print(response)"
   ]
  },
  {
   "cell_type": "markdown",
   "id": "c05ad6d4",
   "metadata": {},
   "source": [
    "I chose qwen because it was finetuned to \"think\" before answering and I want that for my agent. Of course, this is not ideal for a simple question like the one above."
   ]
  },
  {
   "cell_type": "markdown",
   "id": "b645628e",
   "metadata": {},
   "source": [
    "# Set up Llamaindex (tools, agents, prompt)"
   ]
  },
  {
   "cell_type": "code",
   "execution_count": null,
   "id": "eac5f4ab",
   "metadata": {},
   "outputs": [],
   "source": [
    "# calculator tool\n",
    "\n",
    "def calculate(input: dict) -> dict:\n",
    "    \"\"\"Simple calculator function\"\"\"\n",
    "\n",
    "    expression = str(input['input'])\n",
    "    \n",
    "    # Remove any potentially unsafe operations\n",
    "    if any(unsafe in expression for unsafe in [\"import\", \"exec\", \"eval\", \"compile\", \"open\", \"__\"]):\n",
    "        return {\"error\": \"Unsafe expression\"}\n",
    "    \n",
    "    try:\n",
    "        # Use a safer approach to evaluate mathematical expressions\n",
    "        # This is a simplified version - in production you'd want more safeguards\n",
    "        allowed_symbols = {\n",
    "            'sqrt': np.sqrt, 'pi': np.pi, 'e': np.e,\n",
    "            'sin': np.sin, 'cos': np.cos, 'tan': np.tan,\n",
    "            'log': np.log, 'log10': np.log10, 'exp': np.exp,\n",
    "            'floor': np.floor, 'ceil': np.ceil, 'abs': abs\n",
    "        }\n",
    "        \n",
    "        # Replace common math operations with Python syntax\n",
    "        expression = expression.replace('^', '**')\n",
    "        result = eval(expression, {\"__builtins__\": {}}, allowed_symbols)\n",
    "        return {\"result\": result}\n",
    "    except Exception as e:\n",
    "        return {\"error\": f\"Failed to calculate: {str(e)}\"}"
   ]
  },
  {
   "cell_type": "code",
   "execution_count": null,
   "id": "3fba4efa",
   "metadata": {},
   "outputs": [],
   "source": [
    "# wikipedia tool\n",
    "\n",
    "from llama_index.readers.wikipedia import WikipediaReader\n",
    "\n",
    "def get_wikipedia_content(input: dict) -> dict:\n",
    "    \"\"\"Fetch content from Wikipedia based on a query.\"\"\"\n",
    "\n",
    "    query = str(input['input'])\n",
    "    \n",
    "    reader = WikipediaReader()\n",
    "    documents = reader.load_data(query=query)\n",
    "    if documents:\n",
    "        return {'result' :documents[0].text}\n",
    "    else:\n",
    "        return {'error:' \"No content found.\"}"
   ]
  },
  {
   "cell_type": "code",
   "execution_count": null,
   "id": "5578a782",
   "metadata": {},
   "outputs": [],
   "source": [
    "from youtube_transcript_api import YouTubeTranscriptApi\n",
    "from llama_index import Document\n",
    "\n",
    "video_id = \"Ks-_Mh1QhMc\"\n",
    "transcript = YouTubeTranscriptApi.get_transcript(video_id)\n",
    "text = \"\\n\".join([t[\"text\"] for t in transcript])\n",
    "document = Document(text=text)"
   ]
  },
  {
   "cell_type": "code",
   "execution_count": null,
   "id": "7ebb6a36",
   "metadata": {},
   "outputs": [],
   "source": [
    "from llama_index.core.tools import FunctionTool\n",
    "\n",
    "calculator_tool = FunctionTool.from_defaults(\n",
    "    fn=calculate,\n",
    "    name=\"calculator\",\n",
    "    description=\"A simple calculator that performs basic arithmetic operations.\"\n",
    ")\n",
    "\n",
    "wikipedia_tool = FunctionTool.from_defaults(\n",
    "    fn=get_wikipedia_content,\n",
    "    name=\"get_wikipedia_content\",\n",
    "    description=\"A simple content extractor from Wikipedia based on a query.\"\n",
    ")"
   ]
  },
  {
   "cell_type": "code",
   "execution_count": null,
   "id": "f579b28b",
   "metadata": {},
   "outputs": [],
   "source": [
    "tools = [calculator_tool, wikipedia_tool]"
   ]
  },
  {
   "cell_type": "markdown",
   "id": "ed4d2ac9",
   "metadata": {},
   "source": [
    "# Run agent on question to test it"
   ]
  },
  {
   "cell_type": "code",
   "execution_count": null,
   "id": "b5abd4f9",
   "metadata": {},
   "outputs": [],
   "source": [
    "# copy and paste from above with slight modifications for tool_descriptions and output\n",
    "def create_system_prompt(tools):\n",
    "    \"\"\"Create a more descriptive system prompt that explains the available tools\"\"\"\n",
    "    tool_descriptions = \"\\n\".join([\n",
    "        f\"- {tool._metadata.name}: {tool._metadata.description}\" \n",
    "        for tool in tools\n",
    "    ])\n",
    "    \n",
    "    system_prompt = f\"\"\"You're a helpful AI assistant with the ability to use tools.\n",
    "        \n",
    "You have access to the following tools:\n",
    "{tool_descriptions}\n",
    "\n",
    "When a user's request requires using one of these tools:\n",
    "1. First think through what information you need and which tool would be appropriate\n",
    "2. Then provide a clear explanation to the user about your approach\n",
    "3. Finally use the appropriate tool by including the necessary parameters\n",
    "\n",
    "Important: If a question requires calculation ALWAYS use the appropriate tool rather than trying to answer from your knowledge.\n",
    "It doesn't matter if  the answer is straightforward, use tools to ensure accuracy and reliability.\"\"\"\n",
    "\n",
    "    return system_prompt"
   ]
  },
  {
   "cell_type": "code",
   "execution_count": 70,
   "id": "930a1545",
   "metadata": {},
   "outputs": [],
   "source": [
    "# copy and paste from above with slight modifications for tool_descriptions and output\n",
    "def create_system_prompt(tools):\n",
    "    \"\"\"Create a more descriptive system prompt that explains the available tools\"\"\"\n",
    "    tool_descriptions = \"\\n\".join([\n",
    "        f\"- {tool._metadata.name}: {tool._metadata.description}\" \n",
    "        for tool in tools\n",
    "    ])\n",
    "    \n",
    "    system_prompt = f\"\"\"You are a general AI assistant with the ability to use tools.\n",
    "        \n",
    "You have access to the following tools:\n",
    "{tool_descriptions}\n",
    "\n",
    "I will ask you a question and to answer it you can use the tools available to you.\n",
    "\n",
    "When a user's request requires using one of these tools:\n",
    "1. First think through what information you need and which tool would be appropriate\n",
    "2. Then provide a clear explanation to the user about your approach\n",
    "3. Finally use the appropriate tool by including the necessary parameters\n",
    "\n",
    "Report your thoughts, and finish YOUR FINAL ANSWER with just the result to the question. \n",
    "YOUR FINAL ANSWER should be a number OR as few words as possible OR a comma separated list of numbers and/or strings. \n",
    "If you are asked for a number, don't use comma to write your number neither use units such as $ or percent sign unless specified otherwise. \n",
    "If you are asked for a string, don't use articles, neither abbreviations (e.g. for cities), and write the digits in plain text unless specified otherwise. \n",
    "If you are asked for a comma separated list, apply the above rules depending of whether the element to be put in the list is a number or a string.\n",
    "\n",
    "Important: If a question requires calculation ALWAYS use the appropriate tool rather than trying to answer from your knowledge.\n",
    "It doesn't matter if  the answer is straightforward, use tools to ensure accuracy and reliability.\n",
    "\"\"\"\n",
    "    return system_prompt"
   ]
  },
  {
   "cell_type": "code",
   "execution_count": 71,
   "id": "ae50bda4",
   "metadata": {},
   "outputs": [],
   "source": [
    "system_prompt = create_system_prompt(tools)"
   ]
  },
  {
   "cell_type": "code",
   "execution_count": 72,
   "id": "754293f7",
   "metadata": {},
   "outputs": [
    {
     "name": "stdout",
     "output_type": "stream",
     "text": [
      "You are a general AI assistant with the ability to use tools.\n",
      "\n",
      "You have access to the following tools:\n",
      "- calculator: A simple calculator that performs basic arithmetic operations.\n",
      "\n",
      "I will ask you a question and to answer it you can use the tools available to you.\n",
      "\n",
      "When a user's request requires using one of these tools:\n",
      "1. First think through what information you need and which tool would be appropriate\n",
      "2. Then provide a clear explanation to the user about your approach\n",
      "3. Finally use the appropriate tool by including the necessary parameters\n",
      "\n",
      "Report your thoughts, and finish YOUR FINAL ANSWER with just the result to the question. \n",
      "YOUR FINAL ANSWER should be a number OR as few words as possible OR a comma separated list of numbers and/or strings. \n",
      "If you are asked for a number, don't use comma to write your number neither use units such as $ or percent sign unless specified otherwise. \n",
      "If you are asked for a string, don't use articles, neither abbreviations (e.g. for cities), and write the digits in plain text unless specified otherwise. \n",
      "If you are asked for a comma separated list, apply the above rules depending of whether the element to be put in the list is a number or a string.\n",
      "\n",
      "Important: If a question requires calculation ALWAYS use the appropriate tool rather than trying to answer from your knowledge.\n",
      "It doesn't matter if  the answer is straightforward, use tools to ensure accuracy and reliability.\n",
      "\n"
     ]
    }
   ],
   "source": [
    "print(system_prompt)"
   ]
  },
  {
   "cell_type": "code",
   "execution_count": 73,
   "id": "18b03119",
   "metadata": {},
   "outputs": [],
   "source": [
    "from llama_index.core.agent.workflow import ReActAgent\n",
    "\n",
    "agent = ReActAgent(\n",
    "    system_prompt=system_prompt,  # must be string\n",
    "    tools=[calculator_tool], \n",
    "    llm=llm,\n",
    "    verbose=False\n",
    ")"
   ]
  },
  {
   "cell_type": "code",
   "execution_count": 74,
   "id": "58d0f99d",
   "metadata": {},
   "outputs": [],
   "source": [
    "extract_prompt = \"\"\"\n",
    "You are a general AI assistant that must answer to this question:\n",
    "\n",
    "{{question}}\n",
    "\n",
    "Report your thoughts, and finish YOUR FINAL ANSWER with just the result to the question. \n",
    "YOUR FINAL ANSWER should be a number OR as few words as possible OR a comma separated list of numbers and/or strings. \n",
    "If you are asked for a number, don't use comma to write your number neither use units such as $ or percent sign unless specified otherwise. \n",
    "If you are asked for a string, don't use articles, neither abbreviations (e.g. for cities), and write the digits in plain text unless specified otherwise. \n",
    "If you are asked for a comma separated list, apply the above rules depending of whether the element to be put in the list is a number or a string.\n",
    "\n",
    "Important: If a question requires calculation use the appropriate tool rather than trying to answer from your knowledge.\n",
    "\"\"\""
   ]
  },
  {
   "cell_type": "code",
   "execution_count": 75,
   "id": "a43c42aa",
   "metadata": {},
   "outputs": [
    {
     "name": "stdout",
     "output_type": "stream",
     "text": [
      "What is 10^4?\n"
     ]
    }
   ],
   "source": [
    "'''question = 'What is 10^4?'\n",
    "\n",
    "extract_prompt = extract_prompt.replace(\"{{question}}\", question)'''\n",
    "\n",
    "extract_prompt = 'What is 10^4?'\n",
    "print(extract_prompt)"
   ]
  },
  {
   "cell_type": "code",
   "execution_count": 76,
   "id": "cf62ba27",
   "metadata": {},
   "outputs": [
    {
     "name": "stdout",
     "output_type": "stream",
     "text": [
      "<think>\n",
      "Okay, the user is asking what 10^4 is. Let me think. 10 raised to the power of 4 means 10 multiplied by itself four times. So 10*10*10*10. Let me calculate that. 10*10 is 100, then 100*10 is 1000, and 1000*10 is 10,000. So the answer should be 10,000. I don't need any tools here because it's a straightforward arithmetic problem.\n",
      "</think>\n",
      "\n",
      "Thought: I can answer without using any more tools. I'll use the user's language to answer\n",
      "Answer: 10,000"
     ]
    }
   ],
   "source": [
    "import nest_asyncio\n",
    "from llama_index.core.memory import Memory\n",
    "\n",
    "# to keep conversation history\n",
    "memory = Memory.from_defaults(\n",
    "    token_limit=35000  # Normally you would set this to be closer to the LLM context window (i.e. 75,000, etc.)\n",
    ")\n",
    "\n",
    "# run agent with thinking process printed\n",
    "nest_asyncio.apply()\n",
    "\n",
    "async def main():\n",
    "    handler = agent.run(extract_prompt, memory=memory)\n",
    "\n",
    "    # così vedo come ragiona il LLM\n",
    "    async for event in handler.stream_events():\n",
    "        if hasattr(event, \"delta\"):\n",
    "            print(event.delta, end=\"\", flush=True)\n",
    "\n",
    "    result = await handler\n",
    "    return result\n",
    "\n",
    "result = await main()"
   ]
  },
  {
   "cell_type": "code",
   "execution_count": 44,
   "id": "42887665",
   "metadata": {},
   "outputs": [
    {
     "name": "stdout",
     "output_type": "stream",
     "text": [
      "2\n"
     ]
    }
   ],
   "source": [
    "print(result.response.blocks[0].text)"
   ]
  },
  {
   "cell_type": "code",
   "execution_count": 45,
   "id": "7994b38d",
   "metadata": {},
   "outputs": [
    {
     "data": {
      "text/plain": [
       "str"
      ]
     },
     "execution_count": 45,
     "metadata": {},
     "output_type": "execute_result"
    }
   ],
   "source": [
    "type(result.response.blocks[0].text)"
   ]
  },
  {
   "cell_type": "code",
   "execution_count": null,
   "id": "cc0a25bd",
   "metadata": {},
   "outputs": [],
   "source": []
  }
 ],
 "metadata": {
  "kernelspec": {
   "display_name": "gaia_agent",
   "language": "python",
   "name": "gaia_agent"
  },
  "language_info": {
   "codemirror_mode": {
    "name": "ipython",
    "version": 3
   },
   "file_extension": ".py",
   "mimetype": "text/x-python",
   "name": "python",
   "nbconvert_exporter": "python",
   "pygments_lexer": "ipython3",
   "version": "3.13.5"
  }
 },
 "nbformat": 4,
 "nbformat_minor": 5
}
