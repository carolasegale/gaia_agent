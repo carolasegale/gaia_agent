{
 "cells": [
  {
   "cell_type": "markdown",
   "id": "bbd93181",
   "metadata": {},
   "source": [
    "as of now, i cannot think of a solution to download the youtube video in youtube-related questions other than downloading them in collab"
   ]
  },
  {
   "cell_type": "code",
   "execution_count": null,
   "id": "a3495deb",
   "metadata": {},
   "outputs": [],
   "source": [
    "!pip install pytube\n",
    "!pip install pytubefix"
   ]
  },
  {
   "cell_type": "code",
   "execution_count": null,
   "id": "365ce13b",
   "metadata": {},
   "outputs": [],
   "source": [
    "import json\n",
    "from pytubefix import YouTube\n",
    "from pytubefix.cli import on_progress\n",
    "from utils import extract_youtube_url"
   ]
  },
  {
   "cell_type": "code",
   "execution_count": null,
   "id": "8ae4baf2",
   "metadata": {},
   "outputs": [],
   "source": [
    "def download_youtube_video(url, output_path = \"content/\"):\n",
    "\n",
    "    name = url.split('v=')[-1]\n",
    "    try:\n",
    "        yt = YouTube(url, on_progress_callback = on_progress)\n",
    "        print(yt.title)\n",
    "        \n",
    "        ys = yt.streams.get_highest_resolution()\n",
    "        ys.download(output_path=output_path, filename=\"f{name}.mp4\")\n",
    "        print(f\"Video {name}.mp4 downloaded successfully!\")\n",
    "        print(os.listdir(output_path))\n",
    "        return name\n",
    "    except Exception as e:\n",
    "        return str(e)"
   ]
  },
  {
   "cell_type": "code",
   "execution_count": 7,
   "id": "05551ff1",
   "metadata": {},
   "outputs": [
    {
     "name": "stdout",
     "output_type": "stream",
     "text": [
      "{'task_id': 'a1e91b78-d3d8-4675-bb8d-62741b4b68a6', 'question': 'In the video https://www.youtube.com/watch?v=L1vXCYZAYYM, what is the highest number of bird species to be on camera simultaneously?', 'Level': '1', 'file_name': ''}\n",
      "{'task_id': '9d191bce-651d-4746-be2d-7ef8ecadb9c2', 'question': 'Examine the video at https://www.youtube.com/watch?v=1htKBjuUWec.\\n\\nWhat does Teal\\'c say in response to the question \"Isn\\'t that hot?\"', 'Level': '1', 'file_name': ''}\n"
     ]
    }
   ],
   "source": [
    "# Load the JSON file\n",
    "with open(\"questions.json\", \"r\", encoding=\"utf-8-sig\") as f:\n",
    "    questions_data = json.load(f)\n",
    "\n",
    "youtube_q = [e for e in questions_data if 'youtube' in e.get('question')]\n",
    "\n",
    "for e in youtube_q:\n",
    "    print(e)"
   ]
  },
  {
   "cell_type": "code",
   "execution_count": null,
   "id": "161d2472",
   "metadata": {},
   "outputs": [],
   "source": [
    "for e in youtube_q:\n",
    "    url = extract_youtube_url(e.get('question'))\n",
    "    print(url)\n",
    "    video_name = download_youtube_video(url)\n",
    "    print(video_name)"
   ]
  }
 ],
 "metadata": {
  "kernelspec": {
   "display_name": "gaia_agent",
   "language": "python",
   "name": "gaia_agent"
  },
  "language_info": {
   "codemirror_mode": {
    "name": "ipython",
    "version": 3
   },
   "file_extension": ".py",
   "mimetype": "text/x-python",
   "name": "python",
   "nbconvert_exporter": "python",
   "pygments_lexer": "ipython3",
   "version": "3.13.5"
  }
 },
 "nbformat": 4,
 "nbformat_minor": 5
}
